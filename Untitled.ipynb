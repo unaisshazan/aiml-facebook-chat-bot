{
 "cells": [
  {
   "cell_type": "code",
   "execution_count": 1,
   "metadata": {},
   "outputs": [
    {
     "ename": "ModuleNotFoundError",
     "evalue": "No module named 'Kernel'",
     "output_type": "error",
     "traceback": [
      "\u001b[1;31m---------------------------------------------------------------------------\u001b[0m",
      "\u001b[1;31mModuleNotFoundError\u001b[0m                       Traceback (most recent call last)",
      "\u001b[1;32m<ipython-input-1-885e078b309d>\u001b[0m in \u001b[0;36m<module>\u001b[1;34m\u001b[0m\n\u001b[0;32m      1\u001b[0m \u001b[1;31m#!/usr/bin/python\u001b[0m\u001b[1;33m\u001b[0m\u001b[1;33m\u001b[0m\u001b[1;33m\u001b[0m\u001b[0m\n\u001b[0;32m      2\u001b[0m \u001b[1;32mimport\u001b[0m \u001b[0msleekxmpp\u001b[0m\u001b[1;33m\u001b[0m\u001b[1;33m\u001b[0m\u001b[0m\n\u001b[1;32m----> 3\u001b[1;33m \u001b[1;32mimport\u001b[0m \u001b[0maiml\u001b[0m\u001b[1;33m\u001b[0m\u001b[1;33m\u001b[0m\u001b[0m\n\u001b[0m\u001b[0;32m      4\u001b[0m \u001b[1;32mimport\u001b[0m \u001b[0mbot\u001b[0m\u001b[1;33m\u001b[0m\u001b[1;33m\u001b[0m\u001b[0m\n\u001b[0;32m      5\u001b[0m \u001b[1;32mimport\u001b[0m \u001b[0msignal\u001b[0m\u001b[1;33m\u001b[0m\u001b[1;33m\u001b[0m\u001b[0m\n",
      "\u001b[1;32mD:\\machine learning course\\aiml-fb-chat-master\\aiml-fb-chat-master\\aiml\\__init__.py\u001b[0m in \u001b[0;36m<module>\u001b[1;34m\u001b[0m\n\u001b[0;32m      2\u001b[0m \u001b[1;33m\u001b[0m\u001b[0m\n\u001b[0;32m      3\u001b[0m \u001b[1;31m# The Kernel class is the only class most implementations should need.\u001b[0m\u001b[1;33m\u001b[0m\u001b[1;33m\u001b[0m\u001b[1;33m\u001b[0m\u001b[0m\n\u001b[1;32m----> 4\u001b[1;33m \u001b[1;32mfrom\u001b[0m \u001b[0mKernel\u001b[0m \u001b[1;32mimport\u001b[0m \u001b[0mKernel\u001b[0m\u001b[1;33m\u001b[0m\u001b[1;33m\u001b[0m\u001b[0m\n\u001b[0m",
      "\u001b[1;31mModuleNotFoundError\u001b[0m: No module named 'Kernel'"
     ]
    }
   ],
   "source": [
    "#!/usr/bin/python\n",
    "import sleekxmpp\n",
    "import aiml\n",
    "import bot\n",
    "import signal\n",
    "import sys\n",
    "#import logging\n",
    "#logging.basicConfig(level=logging.DEBUG)\n",
    "\n",
    "if len(sys.argv) != 2: sys.exit(\"usage: chat.py password\")\n",
    "\n",
    "password = sys.argv[1]\n",
    "jid = 'http://facebook.com/shazanunais'\n",
    "server = ('chat.facebook.com', 5222)\n",
    "\n",
    "chatbot = bot.AliceBot(jid,password,\"Alice\")\n",
    "chatbot.auto_reconnect = True\n",
    "chatbot.connect(server)\n",
    "chatbot.process(block=False)\n",
    "\n",
    "# exit with grace\n",
    "def sigint_handler(signal, frame):\n",
    "        print (\"exit time\")\n",
    "\n",
    "        global chatbot\n",
    "        chatbot.disconnect(wait=True)        \n",
    "        sys.exit(0)\n",
    "\n",
    "signal.signal(signal.SIGINT, sigint_handler)\n",
    "\n",
    "while True:\n",
    "    pass\n"
   ]
  },
  {
   "cell_type": "code",
   "execution_count": null,
   "metadata": {},
   "outputs": [],
   "source": []
  },
  {
   "cell_type": "code",
   "execution_count": null,
   "metadata": {},
   "outputs": [],
   "source": []
  }
 ],
 "metadata": {
  "kernelspec": {
   "display_name": "Python 3",
   "language": "python",
   "name": "python3"
  }
 },
 "nbformat": 4,
 "nbformat_minor": 2
}
